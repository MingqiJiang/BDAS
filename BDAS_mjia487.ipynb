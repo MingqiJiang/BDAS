{
 "cells": [
  {
   "cell_type": "code",
   "execution_count": 1,
   "metadata": {},
   "outputs": [],
   "source": [
    "import findspark\n",
    "findspark.init('/home/ubuntu/spark-2.1.1-bin-hadoop2.7')\n",
    "from pyspark import SparkContext\n",
    "from pyspark.sql import SparkSession\n",
    "import pandas as pd\n",
    "import numpy as np\n",
    "import matplotlib.pyplot as plt\n",
    "import statsmodels.api as sm\n",
    "from statsmodels.graphics.tsaplots import acf,pacf,plot_acf,plot_pacf\n",
    "from statsmodels.tsa.arima_model import ARMA\n",
    "import warnings, json, math\n",
    "warnings.filterwarnings('ignore')"
   ]
  },
  {
   "cell_type": "code",
   "execution_count": 2,
   "metadata": {},
   "outputs": [],
   "source": [
    "sc=SparkContext(appName=\"covid\") \n",
    "spark=SparkSession.builder.appName('BDAS_mjia487').getOrCreate()"
   ]
  },
  {
   "cell_type": "code",
   "execution_count": 3,
   "metadata": {},
   "outputs": [],
   "source": [
    "def create_df_from_csv(file_name):\n",
    "    df=spark.read.csv(file_name, header=True, inferSchema=True)\n",
    "    return df"
   ]
  },
  {
   "cell_type": "code",
   "execution_count": 4,
   "metadata": {},
   "outputs": [],
   "source": [
    "us_train_df = create_df_from_csv('US-train-data.csv')\n",
    "us_test_df = create_df_from_csv('US-test-data.csv')"
   ]
  },
  {
   "cell_type": "code",
   "execution_count": 5,
   "metadata": {},
   "outputs": [
    {
     "name": "stdout",
     "output_type": "stream",
     "text": [
      "215\n",
      "+---------+-----+------+---------+----+\n",
      "|     date|cases|deaths|recovered|days|\n",
      "+---------+-----+------+---------+----+\n",
      "|2020/1/22|    1|     0|        0|   1|\n",
      "|2020/1/23|    1|     0|        0|   2|\n",
      "|2020/1/24|    2|     0|        0|   3|\n",
      "|2020/1/25|    3|     0|        0|   4|\n",
      "|2020/1/26|    5|     0|        0|   5|\n",
      "|2020/1/27|    5|     0|        0|   6|\n",
      "|2020/1/28|    5|     0|        0|   7|\n",
      "|2020/1/29|    5|     0|        0|   8|\n",
      "|2020/1/30|    6|     0|        0|   9|\n",
      "|2020/1/31|    7|     0|        0|  10|\n",
      "| 2020/2/1|    8|     0|        0|  11|\n",
      "| 2020/2/2|   11|     0|        0|  12|\n",
      "| 2020/2/3|   11|     0|        0|  13|\n",
      "| 2020/2/4|   11|     0|        0|  14|\n",
      "| 2020/2/5|   12|     0|        0|  15|\n",
      "| 2020/2/6|   12|     0|        0|  16|\n",
      "| 2020/2/7|   12|     0|        0|  17|\n",
      "| 2020/2/8|   12|     0|        0|  18|\n",
      "| 2020/2/9|   12|     0|        3|  19|\n",
      "|2020/2/10|   13|     0|        3|  20|\n",
      "+---------+-----+------+---------+----+\n",
      "only showing top 20 rows\n",
      "\n"
     ]
    }
   ],
   "source": [
    "print(us_train_df.count())\n",
    "us_train_df.show()"
   ]
  },
  {
   "cell_type": "code",
   "execution_count": 6,
   "metadata": {},
   "outputs": [
    {
     "name": "stdout",
     "output_type": "stream",
     "text": [
      "30\n",
      "+---------+-------+------+---------+----+\n",
      "|     date|  cases|deaths|recovered|days|\n",
      "+---------+-------+------+---------+----+\n",
      "|2020/8/24|5754177|177197|  2020774| 216|\n",
      "|2020/8/25|5793345|178410|  2053699| 217|\n",
      "|2020/8/26|5838662|179603|  2084465| 218|\n",
      "|2020/8/27|5884266|180729|  2101326| 219|\n",
      "|2020/8/28|5930822|181739|  2118367| 220|\n",
      "|2020/8/29|5975461|182610|  2140614| 221|\n",
      "|2020/8/30|6008913|182984|  2153939| 222|\n",
      "|2020/8/31|6045352|183472|  2184825| 223|\n",
      "| 2020/9/1|6089379|184563|  2202663| 224|\n",
      "| 2020/9/2|6121843|185639|  2231757| 225|\n",
      "| 2020/9/3|6168191|186717|  2266957| 226|\n",
      "| 2020/9/4|6220292|187697|  2283454| 227|\n",
      "| 2020/9/5|6262570|188409|  2302187| 228|\n",
      "| 2020/9/6|6292600|188816|  2315995| 229|\n",
      "| 2020/9/7|6317773|189079|  2333551| 230|\n",
      "| 2020/9/8|6346637|189537|  2359111| 231|\n",
      "| 2020/9/9|6379950|190713|  2387479| 232|\n",
      "|2020/9/10|6417986|191628|  2403511| 233|\n",
      "|2020/9/11|6465534|192855|  2417878| 234|\n",
      "|2020/9/12|6504683|193553|  2434658| 235|\n",
      "+---------+-------+------+---------+----+\n",
      "only showing top 20 rows\n",
      "\n"
     ]
    }
   ],
   "source": [
    "print(us_test_df.count())\n",
    "us_test_df.show()"
   ]
  },
  {
   "cell_type": "code",
   "execution_count": 7,
   "metadata": {},
   "outputs": [
    {
     "name": "stdout",
     "output_type": "stream",
     "text": [
      "root\n",
      " |-- date: string (nullable = true)\n",
      " |-- cases: integer (nullable = true)\n",
      " |-- deaths: integer (nullable = true)\n",
      " |-- recovered: integer (nullable = true)\n",
      " |-- days: integer (nullable = true)\n",
      "\n"
     ]
    }
   ],
   "source": [
    "us_train_df.printSchema()"
   ]
  },
  {
   "cell_type": "code",
   "execution_count": 8,
   "metadata": {},
   "outputs": [
    {
     "data": {
      "image/png": "[encoded data removed]",
      "text/plain": [
       "<Figure size 432x288 with 1 Axes>"
      ]
     },
     "metadata": {},
     "output_type": "display_data"
    },
    {
     "name": "stdout",
     "output_type": "stream",
     "text": [
      "{\n",
      "    \"Critical Value(1%)\": -3.4636447617687436,\n",
      "    \"Number of Observations Used\": 199,\n",
      "    \"Lags Used\": 15,\n",
      "    \"Critical Value(5%)\": -2.8761761179270766,\n",
      "    \"Critical Value(10%)\": -2.57457158581854,\n",
      "    \"p-value\": 0.9934797758877512,\n",
      "    \"Test Statistic Value\": 0.9308312683659112\n",
      "}\n"
     ]
    }
   ],
   "source": [
    "us_data_df = us_train_df.toPandas()\n",
    "time_series_raw = us_data_df['cases']\n",
    "time_series_raw.index = us_data_df['days']\n",
    "time_series_raw.plot()\n",
    "plt.show()\n",
    "t=sm.tsa.stattools.adfuller(time_series_raw)\n",
    "output={}\n",
    "output['Test Statistic Value'] = t[0]\n",
    "output['p-value'] = t[1]\n",
    "output['Lags Used'] = t[2]\n",
    "output['Number of Observations Used'] = t[3]\n",
    "output['Critical Value(1%)'] = t[4]['1%']\n",
    "output['Critical Value(5%)'] = t[4]['5%']\n",
    "output['Critical Value(10%)'] = t[4]['10%']\n",
    "print(json.dumps(output, indent=4))"
   ]
  },
  {
   "cell_type": "code",
   "execution_count": 9,
   "metadata": {},
   "outputs": [
    {
     "data": {
      "image/png": "[encoded data removed]",
      "text/plain": [
       "<Figure size 432x288 with 1 Axes>"
      ]
     },
     "metadata": {},
     "output_type": "display_data"
    },
    {
     "name": "stdout",
     "output_type": "stream",
     "text": [
      "{\n",
      "    \"Critical Value(1%)\": -3.4636447617687436,\n",
      "    \"Number of Observations Used\": 199,\n",
      "    \"Lags Used\": 15,\n",
      "    \"Critical Value(5%)\": -2.8761761179270766,\n",
      "    \"Critical Value(10%)\": -2.57457158581854,\n",
      "    \"p-value\": 0.022419078960072763,\n",
      "    \"Test Statistic Value\": -3.160013765486775\n",
      "}\n"
     ]
    }
   ],
   "source": [
    "labels = 'cases'\n",
    "us_data_df = us_train_df.toPandas()\n",
    "us_data_df = us_data_df[us_data_df[labels] != 0]\n",
    "time_series = np.log(us_data_df[labels])\n",
    "time_series.index = us_data_df['days']\n",
    "time_series.plot()\n",
    "plt.show()\n",
    "t=sm.tsa.stattools.adfuller(time_series)\n",
    "output={}\n",
    "output['Test Statistic Value'] = t[0]\n",
    "output['p-value'] = t[1]\n",
    "output['Lags Used'] = t[2]\n",
    "output['Number of Observations Used'] = t[3]\n",
    "output['Critical Value(1%)'] = t[4]['1%']\n",
    "output['Critical Value(5%)'] = t[4]['5%']\n",
    "output['Critical Value(10%)'] = t[4]['10%']\n",
    "print(json.dumps(output, indent=4))"
   ]
  },
  {
   "cell_type": "code",
   "execution_count": 10,
   "metadata": {},
   "outputs": [
    {
     "data": {
      "image/png": "[encoded data removed]",
      "text/plain": [
       "<Figure size 432x288 with 1 Axes>"
      ]
     },
     "metadata": {},
     "output_type": "display_data"
    },
    {
     "data": {
      "image/png": "[encoded data removed]",
      "text/plain": [
       "<Figure size 432x288 with 1 Axes>"
      ]
     },
     "metadata": {},
     "output_type": "display_data"
    },
    {
     "name": "stdout",
     "output_type": "stream",
     "text": [
      "     lag        AC            Q       PAC       Prob(>Q)\n",
      "0    1.0  0.984797   211.435561  0.984797   6.678394e-48\n",
      "1    2.0  0.969020   417.111724 -0.026700   2.662808e-91\n",
      "2    3.0  0.954279   617.518857  0.026719  1.604910e-133\n",
      "3    4.0  0.939999   812.894531  0.006416  1.236707e-174\n",
      "4    5.0  0.926403  1003.563072  0.015948  1.017375e-214\n",
      "5    6.0  0.912331  1189.367752 -0.022800  9.573640e-254\n",
      "6    7.0  0.897772  1370.154810 -0.021134  1.106679e-291\n",
      "7    8.0  0.882686  1545.761231 -0.025052   0.000000e+00\n",
      "8    9.0  0.867547  1716.218933 -0.010028   0.000000e+00\n",
      "9   10.0  0.852278  1881.531833 -0.014635   0.000000e+00\n",
      "10  11.0  0.836900  2041.714196 -0.012721   0.000000e+00\n",
      "11  12.0  0.821838  2196.943949  0.001559   0.000000e+00\n",
      "12  13.0  0.806361  2347.121693 -0.022271   0.000000e+00\n",
      "13  14.0  0.790483  2492.161432 -0.020469   0.000000e+00\n",
      "14  15.0  0.774420  2632.062513 -0.014924   0.000000e+00\n",
      "15  16.0  0.757952  2766.750284 -0.022758   0.000000e+00\n",
      "16  17.0  0.741110  2896.169260 -0.022765   0.000000e+00\n",
      "17  18.0  0.723887  3020.269696 -0.023346   0.000000e+00\n",
      "18  19.0  0.706297  3139.015218 -0.022915   0.000000e+00\n",
      "19  20.0  0.688550  3252.446933 -0.016146   0.000000e+00\n",
      "20  21.0  0.670498  3360.563360 -0.021508   0.000000e+00\n",
      "21  22.0  0.652315  3463.425652 -0.015286   0.000000e+00\n",
      "22  23.0  0.633932  3561.077828 -0.017685   0.000000e+00\n",
      "23  24.0  0.615234  3653.535890 -0.021542   0.000000e+00\n",
      "24  25.0  0.596182  3740.813255 -0.023324   0.000000e+00\n",
      "25  26.0  0.576857  3822.956638 -0.020760   0.000000e+00\n",
      "26  27.0  0.558443  3900.349096  0.017603   0.000000e+00\n",
      "27  28.0  0.539784  3973.042651 -0.021676   0.000000e+00\n",
      "28  29.0  0.520886  4041.099407 -0.017463   0.000000e+00\n",
      "29  30.0  0.501909  4104.629133 -0.013797   0.000000e+00\n",
      "30  31.0  0.482923  4163.762930 -0.010547   0.000000e+00\n",
      "31  32.0  0.463633  4218.564906 -0.023417   0.000000e+00\n",
      "32  33.0  0.444104  4269.123649 -0.020585   0.000000e+00\n",
      "33  34.0  0.425150  4315.714856  0.005528   0.000000e+00\n",
      "34  35.0  0.406087  4358.457735 -0.017227   0.000000e+00\n",
      "35  36.0  0.387454  4397.585453  0.002396   0.000000e+00\n",
      "36  37.0  0.368593  4433.195567 -0.020496   0.000000e+00\n",
      "37  38.0  0.349676  4465.425321 -0.011140   0.000000e+00\n",
      "38  39.0  0.330705  4494.416555 -0.015975   0.000000e+00\n",
      "39  40.0  0.312026  4520.372732 -0.003712   0.000000e+00\n"
     ]
    }
   ],
   "source": [
    "plot_acf(time_series, lags=40)\n",
    "plot_pacf(time_series, lags=40)\n",
    "plt.show()\n",
    "r,rac,Q = sm.tsa.acf(time_series, qstat=True)\n",
    "prac = pacf(time_series,method='ywmle')\n",
    "table_data = np.c_[range(1,len(r)), r[1:],rac,prac[1:len(rac)+1],Q]\n",
    "table = pd.DataFrame(table_data, columns=['lag', \"AC\",\"Q\", \"PAC\", \"Prob(>Q)\"])\n",
    "print(table)"
   ]
  },
  {
   "cell_type": "code",
   "execution_count": 11,
   "metadata": {},
   "outputs": [],
   "source": [
    "(p, q) =(sm.tsa.arma_order_select_ic(time_series,max_ar=3,max_ma=3,ic='aic')['aic_min_order'])"
   ]
  },
  {
   "cell_type": "code",
   "execution_count": 12,
   "metadata": {},
   "outputs": [
    {
     "data": {
      "text/plain": [
       "(2, 1)"
      ]
     },
     "execution_count": 12,
     "metadata": {},
     "output_type": "execute_result"
    }
   ],
   "source": [
    "p,q"
   ]
  },
  {
   "cell_type": "code",
   "execution_count": 13,
   "metadata": {},
   "outputs": [
    {
     "name": "stdout",
     "output_type": "stream",
     "text": [
      "                           Results: ARMA\n",
      "===================================================================\n",
      "Model:              ARMA             BIC:                 -437.4979\n",
      "Dependent Variable: cases            Log-Likelihood:      232.18   \n",
      "Date:               2020-10-22 11:19 Scale:               1.0000   \n",
      "No. Observations:   215              Method:              mle      \n",
      "Df Model:           4                Sample:              0        \n",
      "Df Residuals:       211                                   5        \n",
      "Converged:          1.0000           S.D. of innovations: 0.080    \n",
      "No. Iterations:     38.0000          HQIC:                -447.542 \n",
      "AIC:                -454.3511                                      \n",
      "-------------------------------------------------------------------\n",
      "                 Coef.  Std.Err.     t      P>|t|   [0.025   0.975]\n",
      "-------------------------------------------------------------------\n",
      "const           11.1627  21.4514     0.5204 0.6028 -30.8811 53.2066\n",
      "ar.L1.cases      1.9851   0.0007  3020.3336 0.0000   1.9838  1.9864\n",
      "ar.L2.cases     -0.9852   0.0007 -1495.8534 0.0000  -0.9865 -0.9839\n",
      "ma.L1.cases     -0.7265   0.0443   -16.3901 0.0000  -0.8134 -0.6396\n",
      "----------------------------------------------------------------------------\n",
      "                Real           Imaginary          Modulus          Frequency\n",
      "----------------------------------------------------------------------------\n",
      "AR.1           1.0075            -0.0052           1.0075            -0.0008\n",
      "AR.2           1.0075             0.0052           1.0075             0.0008\n",
      "MA.1           1.3765             0.0000           1.3765             0.0000\n",
      "===================================================================\n",
      "\n"
     ]
    }
   ],
   "source": [
    "arma_mod = ARMA(time_series,(p,q)).fit(disp=-1,method='mle')\n",
    "summary = (arma_mod.summary2(alpha=.05, float_format=\"%.8f\"))\n",
    "print(summary)"
   ]
  },
  {
   "cell_type": "code",
   "execution_count": 14,
   "metadata": {},
   "outputs": [
    {
     "name": "stdout",
     "output_type": "stream",
     "text": [
      "{\n",
      "    \"Critical Value(1%)\": -3.463476079125,\n",
      "    \"Number of Observations Used\": 200,\n",
      "    \"Lags Used\": 14,\n",
      "    \"Critical Value(5%)\": -2.876102355,\n",
      "    \"Critical Value(10%)\": -2.574532225,\n",
      "    \"p-value\": 0.0015414347956244638,\n",
      "    \"Test Statistic Value\": -3.9760166938180084\n",
      "}\n"
     ]
    }
   ],
   "source": [
    "arma_mod = ARMA(time_series,(p, q)).fit(disp=-1,method='mle')\n",
    "resid = arma_mod.resid\n",
    "t=sm.tsa.stattools.adfuller(resid)\n",
    "output={}\n",
    "output['Test Statistic Value'] = t[0]\n",
    "output['p-value'] = t[1]\n",
    "output['Lags Used'] = t[2]\n",
    "output['Number of Observations Used'] = t[3]\n",
    "output['Critical Value(1%)'] = t[4]['1%']\n",
    "output['Critical Value(5%)'] = t[4]['5%']\n",
    "output['Critical Value(10%)'] = t[4]['10%']\n",
    "print(json.dumps(output, indent=4))"
   ]
  },
  {
   "cell_type": "code",
   "execution_count": 15,
   "metadata": {},
   "outputs": [
    {
     "data": {
      "image/png": "[encoded data removed]",
      "text/plain": [
       "<Figure size 432x288 with 1 Axes>"
      ]
     },
     "metadata": {},
     "output_type": "display_data"
    }
   ],
   "source": [
    "from statsmodels.graphics.api import qqplot\n",
    "fig = qqplot(resid, line='q', fit=True)\n",
    "plt.show()"
   ]
  },
  {
   "cell_type": "code",
   "execution_count": 16,
   "metadata": {},
   "outputs": [
    {
     "name": "stdout",
     "output_type": "stream",
     "text": [
      "1.0099143055494826\n"
     ]
    }
   ],
   "source": [
    "print(sm.stats.durbin_watson(resid.values))"
   ]
  },
  {
   "cell_type": "code",
   "execution_count": 17,
   "metadata": {},
   "outputs": [],
   "source": [
    "arma_model = sm.tsa.ARMA(time_series,(p,q)).fit(disp=-1,maxiter=100)"
   ]
  },
  {
   "cell_type": "code",
   "execution_count": 18,
   "metadata": {},
   "outputs": [],
   "source": [
    "predict_data = np.exp(arma_model.predict(start=1, end=245, dynamic = False))[-30:]"
   ]
  },
  {
   "cell_type": "code",
   "execution_count": 19,
   "metadata": {},
   "outputs": [],
   "source": [
    "test_days = us_test_df.toPandas()['days']\n",
    "test_data = np.array(us_test_df.toPandas()[labels])"
   ]
  },
  {
   "cell_type": "code",
   "execution_count": 20,
   "metadata": {},
   "outputs": [
    {
     "data": {
      "image/png": "[encoded data removed]",
      "text/plain": [
       "<Figure size 432x288 with 1 Axes>"
      ]
     },
     "metadata": {},
     "output_type": "display_data"
    },
    {
     "name": "stdout",
     "output_type": "stream",
     "text": [
      "MAE: 56130.0065 \n",
      "relative MAE: 0.0088\n"
     ]
    }
   ],
   "source": [
    "plt.plot(test_days, predict_data, color='r', label='forecast')\n",
    "plt.plot(test_days, test_data, color='g', label='actual')\n",
    "plt.legend()\n",
    "plt.show()\n",
    "\n",
    "mae = np.mean(np.fabs(predict_data -test_data))\n",
    "rel_mae = np.mean(np.fabs(predict_data -test_data)/test_data)\n",
    "print('MAE: %.4f ' % mae)\n",
    "print('relative MAE: %.4f' % rel_mae)"
   ]
  },
  {
   "cell_type": "code",
   "execution_count": 21,
   "metadata": {},
   "outputs": [
    {
     "data": {
      "image/png": "[encoded data removed]",
      "text/plain": [
       "<Figure size 432x288 with 1 Axes>"
      ]
     },
     "metadata": {},
     "output_type": "display_data"
    }
   ],
   "source": [
    "predict_data_all = np.exp(arma_model.predict(start=1, end=270, dynamic = False))\n",
    "train_days = us_train_df.toPandas()['days']\n",
    "train_data = np.array(us_train_df.toPandas()[labels])\n",
    "plt.plot(np.arange(len(predict_data_all)) + 1, predict_data_all, color='r', label='forecast')\n",
    "plt.plot(train_days, train_data, color='g', label='actual')\n",
    "plt.legend()\n",
    "plt.show()"
   ]
  }
 ],
 "metadata": {
  "kernelspec": {
   "display_name": "Python 3",
   "language": "python",
   "name": "python3"
  },
  "language_info": {
   "codemirror_mode": {
    "name": "ipython",
    "version": 3
   },
   "file_extension": ".py",
   "mimetype": "text/x-python",
   "name": "python",
   "nbconvert_exporter": "python",
   "pygments_lexer": "ipython3",
   "version": "3.5.2"
  }
 },
 "nbformat": 4,
 "nbformat_minor": 1
}
